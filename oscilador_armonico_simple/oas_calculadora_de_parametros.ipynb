{
 "cells": [
  {
   "cell_type": "markdown",
   "metadata": {},
   "source": [
    "# Calculadora para los parámetros de un oscilador armónico simple (OAS)\n",
    "En base a la masa ($m$), constante elástica ($k$) y coeficiente de disipación ($b$), quiero determinar el régimen de la respuesta del sistema, y calcular los parámetros correspondientes (frecuencia de oscilación si corresponde, y tiempo(s) de decaimiento).\n",
    "\n",
    "Recordemos la ecuación diferencial para un OAS mecánico:\n",
    "\n",
    "$$m \\ddot x = -b \\dot x -k x $$\n",
    "\n",
    "donde $x$ es la posición de la masa respecto a su posición de equilibrio."
   ]
  },
  {
   "cell_type": "markdown",
   "metadata": {},
   "source": [
    "## Importación de librerías"
   ]
  },
  {
   "cell_type": "code",
   "execution_count": 1,
   "metadata": {},
   "outputs": [],
   "source": [
    "import numpy as np"
   ]
  },
  {
   "cell_type": "markdown",
   "metadata": {},
   "source": [
    "## Ingreso de parámetros\n",
    "\n",
    "Defino los parámetros *de entrada* de mi sistema. Las unidades son libres, si respeto MKS, todas las magnitudes derivadas lo harán también."
   ]
  },
  {
   "cell_type": "code",
   "execution_count": 2,
   "metadata": {},
   "outputs": [],
   "source": [
    "m = 2.           # masa\n",
    "k = 1 / 8e-6     # constante elástica\n",
    "b = 10000            # coeficiente de disipación "
   ]
  },
  {
   "cell_type": "markdown",
   "metadata": {},
   "source": [
    "## Parámetros derivados \n",
    "\n",
    "Una vez definidos los parámetros de entrada, voy a calcular algunos parámetros derivados. Estos son la constante de amortiguamiento por unidad de masa ($\\Gamma$) y la frecuencia natural de oscilación del sistema ($f_0$ y $\\omega_0$). Estos parámetros se obtienen escribiendo la ecuación homogénea y dividendo por la masa:\n",
    "\n",
    "$$\\ddot x + \\frac{b}{m} \\dot x + \\frac{k}{m} x = 0$$\n",
    "\n",
    "Esto nos muestra que el sistema se puede definir completamente dando sólo *dos* parámetros:\n",
    "\n",
    "$$\\ddot x + \\Gamma \\dot x + \\omega_0^2 x = 0$$\n"
   ]
  },
  {
   "cell_type": "code",
   "execution_count": 3,
   "metadata": {},
   "outputs": [
    {
     "data": {
      "text/plain": [
       "5000.0"
      ]
     },
     "execution_count": 3,
     "metadata": {},
     "output_type": "execute_result"
    }
   ],
   "source": [
    "gamma = b / m\n",
    "gamma"
   ]
  },
  {
   "cell_type": "code",
   "execution_count": 4,
   "metadata": {},
   "outputs": [
    {
     "data": {
      "text/plain": [
       "250.0"
      ]
     },
     "execution_count": 4,
     "metadata": {},
     "output_type": "execute_result"
    }
   ],
   "source": [
    "w0 = np.sqrt(k/m)\n",
    "w0"
   ]
  },
  {
   "cell_type": "code",
   "execution_count": 5,
   "metadata": {},
   "outputs": [
    {
     "data": {
      "text/plain": [
       "39.78873577297384"
      ]
     },
     "execution_count": 5,
     "metadata": {},
     "output_type": "execute_result"
    }
   ],
   "source": [
    "f0 = w0 / 2. / np.pi\n",
    "f0"
   ]
  },
  {
   "cell_type": "markdown",
   "metadata": {},
   "source": [
    "## Solución del sistema\n",
    "\n",
    "La solución propuesta para el sistema es:\n",
    "\n",
    "$$x(t) = A e^{-\\tau_0^{-1} t} e^{i \\omega t} $$\n",
    "\n",
    "Esta solución representa un movimiento oscilatorio amortiguado, cuyo tiempo tiempo característico de decaimiento es $\\tau_0$ y su frecuencia angular de oscilación es $\\omega$. Sus expresiones son:\n",
    "\n",
    "$$ \\tau_0 = \\frac{2}{\\Gamma} = \\frac{2m}{b}$$\n",
    "\n",
    "$$ \\omega = \\sqrt{\\omega_0^2 - \\frac{1}{\\tau_0^2}}$$"
   ]
  },
  {
   "cell_type": "code",
   "execution_count": 6,
   "metadata": {},
   "outputs": [
    {
     "data": {
      "text/plain": [
       "0.0004"
      ]
     },
     "execution_count": 6,
     "metadata": {},
     "output_type": "execute_result"
    }
   ],
   "source": [
    "tau0 = 2. / gamma\n",
    "tau0"
   ]
  },
  {
   "cell_type": "code",
   "execution_count": 7,
   "metadata": {},
   "outputs": [
    {
     "data": {
      "text/plain": [
       "2487.4685927665496j"
      ]
     },
     "execution_count": 7,
     "metadata": {},
     "output_type": "execute_result"
    }
   ],
   "source": [
    "w = np.sqrt(k/m - tau0**(-2) + 0*1j)      # 1j representa la unidad imaginaria, de este modo w es un complejo\n",
    "w"
   ]
  },
  {
   "cell_type": "markdown",
   "metadata": {},
   "source": [
    "Notar que estamos definiendo a $w$ como un número complejo, esto nos permite contemplar todos los regímenes posibles para la solución es una única expresión matemática. Recordar que:\n",
    "\n",
    "- si $w$ es **real**, el régimen es *sub-amortiguado*\n",
    "- si $w$ es **nulo**, el régimen es *critico*\n",
    "- si $w$ es **complejo puro**, el régimen es *sobre-amortiguado*\n"
   ]
  },
  {
   "cell_type": "markdown",
   "metadata": {},
   "source": [
    "La solución se puede escribir en una única exponencial si juntamos ambas magnitudes, definiendo:\n",
    "\n",
    "$$ \\lambda_\\pm = -\\frac{1}{\\tau_0} \\pm i \\omega $$\n"
   ]
  },
  {
   "cell_type": "code",
   "execution_count": 8,
   "metadata": {},
   "outputs": [
    {
     "data": {
      "text/plain": [
       "(-4987.46859276655+0j)"
      ]
     },
     "execution_count": 8,
     "metadata": {},
     "output_type": "execute_result"
    }
   ],
   "source": [
    "lambda1 = -1/tau0 + 1j* w\n",
    "lambda1"
   ]
  },
  {
   "cell_type": "code",
   "execution_count": 12,
   "metadata": {},
   "outputs": [
    {
     "data": {
      "text/plain": [
       "-0.00020050251573520183"
      ]
     },
     "execution_count": 12,
     "metadata": {},
     "output_type": "execute_result"
    }
   ],
   "source": [
    "1/np.real(lambda1)"
   ]
  },
  {
   "cell_type": "code",
   "execution_count": 10,
   "metadata": {},
   "outputs": [
    {
     "data": {
      "text/plain": [
       "(-12.531407233450409+0j)"
      ]
     },
     "execution_count": 10,
     "metadata": {},
     "output_type": "execute_result"
    }
   ],
   "source": [
    "lambda2 = -1/tau0 - 1j* w\n",
    "lambda2"
   ]
  },
  {
   "cell_type": "code",
   "execution_count": 13,
   "metadata": {},
   "outputs": [
    {
     "data": {
      "text/plain": [
       "-0.07979949748426292"
      ]
     },
     "execution_count": 13,
     "metadata": {},
     "output_type": "execute_result"
    }
   ],
   "source": [
    "1/np.real(lambda2)"
   ]
  },
  {
   "cell_type": "markdown",
   "metadata": {},
   "source": [
    "De este modo obtenemos las dos soluciones posibles del sistema, por lo cual sabemos que:\n",
    "\n",
    "$$ x(t) = A_1 e^{\\lambda_1 t} + A_2 e^{\\lambda_2 t} $$\n",
    "\n",
    "donde $A_1$ y $A_2$ son complejos que dependen de las condiciones iniciales del sistema. (Recordar que para llevar la solución a un sistema físico en el mundo real es necesario tomar parte real o imaginaria).\n",
    "\n",
    "Con esto concluye la calculadora. El paso siguiente es analizar el régimen de la solución en función de los valores que toman $\\lambda_{1,2}$ en función de $\\tau_0$ y $\\omega_0$. \n",
    "\n",
    "Cosas para tener en cuenta:\n",
    "* La parte real de $\\lambda_i$ nos dice la tasa de pérdida de energía.\n",
    "* La parte imaginaria de $\\lambda_i$ nos dice si la solución es oscilante o no.\n",
    "\n",
    "A medida que $\\text{Im}[\\lambda_i]$ se acerca a $0$, la solución se parecerá cada vez más al régimen crítico. Esto se logra cambiando la relación entre $\\omega_0$ y $\\tau_0$. Cuando $\\text{Im}[\\lambda_i] = 0$, $\\omega$ es complejo, y por lo tanto $\\lambda_i$ es un número real negativo. Cuando eso ocurre, el régimen es sobreamortiguado, y su comportamiento tiene dos tiempos característicos, uno mayor y otro menor respecto a $\\tau_0$.  "
   ]
  },
  {
   "cell_type": "code",
   "execution_count": null,
   "metadata": {},
   "outputs": [],
   "source": []
  }
 ],
 "metadata": {
  "kernelspec": {
   "display_name": "Python 3",
   "language": "python",
   "name": "python3"
  },
  "language_info": {
   "codemirror_mode": {
    "name": "ipython",
    "version": 3
   },
   "file_extension": ".py",
   "mimetype": "text/x-python",
   "name": "python",
   "nbconvert_exporter": "python",
   "pygments_lexer": "ipython3",
   "version": "3.8.3"
  }
 },
 "nbformat": 4,
 "nbformat_minor": 4
}
