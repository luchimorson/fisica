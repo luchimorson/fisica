{
  "nbformat": 4,
  "nbformat_minor": 0,
  "metadata": {
    "colab": {
      "name": "1_Intro_Python.ipynb",
      "provenance": [],
      "collapsed_sections": [
        "fVODhLoFRUHh",
        "OhD3USJCWL-J",
        "eMdHd_IZXqBH",
        "Qd2zyAV6Z2eN",
        "SamaqoNqahpj",
        "bLkPcrDng-Si",
        "DRL7KzUljnHV",
        "pTy9kLkcm2RG",
        "AGFRC_ELtqSR"
      ]
    },
    "kernelspec": {
      "name": "python3",
      "display_name": "Python 3"
    }
  },
  "cells": [
    {
      "cell_type": "markdown",
      "metadata": {
        "id": "M7Y77oExVJBD",
        "colab_type": "text"
      },
      "source": [
        "Gracias Milton!"
      ]
    },
    {
      "cell_type": "markdown",
      "metadata": {
        "id": "WToJO4i6VfGI",
        "colab_type": "text"
      },
      "source": [
        "Talleres de la FIFA\n",
        "https://fifabsas.github.io/talleresfifabsas/"
      ]
    },
    {
      "cell_type": "markdown",
      "metadata": {
        "id": "iGvyzqltAcze",
        "colab_type": "text"
      },
      "source": [
        "##¿Qué es Python, qué es Colab?\n",
        "Python es un lenguaje de programación ¿qué significa esto? Es el código con el que escribimos, lo podemos escribir acá en un notebook de colab como lo estamos haciendo, en algún otro software pensado para python o directamente en un bloc de notas, no importa donde lo hagamos siempre seguirá siendo python.\n",
        "\n",
        "Por otro lado, Colab es una IDE (entorno de desarrollo integrado), es lo que nos permite comunicarnos con el lenguaje, hay varios y más adelante podrán usar otros y elegir el que más les guste, por ahora usaremos Colab, por último, cuando hablamos de Notebook, hablamos del archivo en particular que estamos usando en un momento especifico.\n",
        "\n",
        "Como pueden ver, un Notebook tiene la gran utilidad de poder ir narrando una \"historia\". E incluso podemos escribir ecuaciones usando el mismo lenguaje que en LaTex insertando la ecuación entre signos \\$$ $$"
      ]
    },
    {
      "cell_type": "markdown",
      "metadata": {
        "id": "ebe0ES9eLWxY",
        "colab_type": "text"
      },
      "source": [
        "Para recorrer este notebook les propongo que lean lo que ponemos pero que también lo copien en un notebook de ustedes y lo vayan modificando y jugando, las dudas más comunes que aparecen cuando unx lee son: ¿Se puede hacer tal cosa? ¿Se podrá hacer de otra manera? ¿Qué pasa si hago tal cosa? Las mejores respuestas siempre las van a poder tener probándolo.\n",
        "\n",
        "##A trabajar\n",
        "\n",
        "En la celda de abajo van a ver el comando más famoso del mundo. ¿Qué hace?"
      ]
    },
    {
      "cell_type": "code",
      "metadata": {
        "id": "5zcrEw6RL2He",
        "colab_type": "code",
        "colab": {}
      },
      "source": [
        "print('hola mundo')"
      ],
      "execution_count": null,
      "outputs": []
    },
    {
      "cell_type": "markdown",
      "metadata": {
        "id": "SVAFo3v-L7e9",
        "colab_type": "text"
      },
      "source": [
        "##Python funciona como una calculadora\n",
        "Pueden sumar, restar, multiplicar, dividir, elevar un número a alguna potencia."
      ]
    },
    {
      "cell_type": "code",
      "metadata": {
        "id": "YBf8f7ECMdy-",
        "colab_type": "code",
        "colab": {}
      },
      "source": [
        "1+1"
      ],
      "execution_count": null,
      "outputs": []
    },
    {
      "cell_type": "code",
      "metadata": {
        "id": "4BXpxZ0JMi1d",
        "colab_type": "code",
        "colab": {}
      },
      "source": [
        "8*5"
      ],
      "execution_count": null,
      "outputs": []
    },
    {
      "cell_type": "markdown",
      "metadata": {
        "id": "sE52LUXGMj3O",
        "colab_type": "text"
      },
      "source": [
        "¡Cuidado! Si escribo más de un renglón en una celda hace todas las cuentas pero me muestra solo la última"
      ]
    },
    {
      "cell_type": "code",
      "metadata": {
        "id": "mYY4dlKoMsLI",
        "colab_type": "code",
        "colab": {}
      },
      "source": [
        "1+1\n",
        "8*5"
      ],
      "execution_count": null,
      "outputs": []
    },
    {
      "cell_type": "markdown",
      "metadata": {
        "id": "rNkABDw6MuVY",
        "colab_type": "text"
      },
      "source": [
        "Por eso usamos la función print si queremos que se muestre algo que no está al final"
      ]
    },
    {
      "cell_type": "code",
      "metadata": {
        "id": "thvm0NpAM05v",
        "colab_type": "code",
        "colab": {}
      },
      "source": [
        "print(7+2)\n",
        "print(7*3)\n",
        "print(7/2)\n",
        "print(5**2)\n",
        "print(25**0.5)"
      ],
      "execution_count": null,
      "outputs": []
    },
    {
      "cell_type": "markdown",
      "metadata": {
        "id": "X8pmz5SGM1s4",
        "colab_type": "text"
      },
      "source": [
        "##Variables\n",
        "\n",
        "Como en la calculadora, puedo guardar resultados en variables.\n",
        "Para hacerlo solo tengo que elegir el nombre de mi variable (no puede empezar con un número) y guardar el número que quiero en esa variable usando un igual como se muestra en la celda de abajo\n"
      ]
    },
    {
      "cell_type": "code",
      "metadata": {
        "id": "zGSI_NzyNOpI",
        "colab_type": "code",
        "colab": {}
      },
      "source": [
        "a = 3\n",
        "b = 2\n",
        "lala = a*b\n",
        "print(lala)"
      ],
      "execution_count": null,
      "outputs": []
    },
    {
      "cell_type": "markdown",
      "metadata": {
        "id": "SIOnbH5jNRLn",
        "colab_type": "text"
      },
      "source": [
        "Ojo, el igual en computación se le llama asignación. A la derecha del igual se hacen todas las cuentas y el resultado se guarda en el símbolo de la izquierda\n",
        "\n",
        "¿Cómo resuelve las cuentas? ¿Orden de escritura u orden matemático?\n"
      ]
    },
    {
      "cell_type": "code",
      "metadata": {
        "id": "s8HWArePNdBO",
        "colab_type": "code",
        "colab": {}
      },
      "source": [
        "pepe = 5+4*2\n",
        "pepe2 = 5+(4*2)\n",
        "print(pepe)\n",
        "print(pepe2)"
      ],
      "execution_count": null,
      "outputs": []
    },
    {
      "cell_type": "markdown",
      "metadata": {
        "id": "BrbgCsEGNknu",
        "colab_type": "text"
      },
      "source": [
        "Estas variables que estamos creando, son de diferentes tipos. Para saber el tipo de variable que estoy usando, se lo puedo preguntar a Mr Python. Por ahora usamos tres tipos de variables, enteras (int, de integer en inglés), float (de número de punto flotante) y texto (str de string)."
      ]
    },
    {
      "cell_type": "code",
      "metadata": {
        "id": "fTnmWyZVPBDK",
        "colab_type": "code",
        "colab": {}
      },
      "source": [
        "Materia = 'Fisica 2'\n",
        "a = 2\n",
        "b = 7/3.\n",
        "c = 2.4 #OJO, LAS COMAS ACÁ VAN COMO PUNTOS \n",
        "\n",
        "#Le pido que me de el tipo de variable con type(variable) y despúes le pido que lo imprima, si queremos saber qué hace algo lo leemos de adentro hacia afuera\n",
        "print(type(Materia)) \n",
        "print(type(a))\n",
        "print(type(b))\n",
        "print(type(c))\n"
      ],
      "execution_count": null,
      "outputs": []
    },
    {
      "cell_type": "markdown",
      "metadata": {
        "id": "AoFi5NteQSb5",
        "colab_type": "text"
      },
      "source": [
        "Los strings se pueden sumar, pero la suma de strings lo que hace es concatenarlos"
      ]
    },
    {
      "cell_type": "code",
      "metadata": {
        "id": "hn2CfRUJQnGN",
        "colab_type": "code",
        "colab": {}
      },
      "source": [
        "Materia = 'Fisica 2'\n",
        "Nombre = 'Milton'\n",
        "\n",
        "print(Nombre + ' es ayudante de ' + Materia)"
      ],
      "execution_count": null,
      "outputs": []
    },
    {
      "cell_type": "markdown",
      "metadata": {
        "id": "4QIPHmaHQ3dt",
        "colab_type": "text"
      },
      "source": [
        "Ojo! hay tipos de variables que no se pueden sumar, si sumo float + int todo barbaro pero si sumo string + int Python no sabe lo que hacer. Si quiero que estos se sumen como sumaba el texto antes de hacerlo tengo que convertir todo a texto."
      ]
    },
    {
      "cell_type": "code",
      "metadata": {
        "id": "J7WI3UQYR8bS",
        "colab_type": "code",
        "colab": {}
      },
      "source": [
        "a = 2+3\n",
        "print('El resultado de la cuenta es ' + str(a))"
      ],
      "execution_count": null,
      "outputs": []
    },
    {
      "cell_type": "markdown",
      "metadata": {
        "id": "fVODhLoFRUHh",
        "colab_type": "text"
      },
      "source": [
        "## Otro tipo de variables más. Booleanas\n",
        "\n",
        "Además de todas la que vimos también tenemos un tipo de datos que se llaman booleanos, o lógicos. Pueden tomar solo dos valores: True o False. \n",
        "Se puede operar con estas variables con funciones lógicas como =, <, not, or, and\n"
      ]
    },
    {
      "cell_type": "code",
      "metadata": {
        "id": "wXYS7Vy4V4-H",
        "colab_type": "code",
        "colab": {}
      },
      "source": [
        "algo = True\n",
        "print(algo)\n",
        "print(not algo)\n",
        "print(2*algo)"
      ],
      "execution_count": null,
      "outputs": []
    },
    {
      "cell_type": "markdown",
      "metadata": {
        "id": "k3bYGP69V-4e",
        "colab_type": "text"
      },
      "source": [
        "Las comparaciones dan variable booleanas"
      ]
    },
    {
      "cell_type": "code",
      "metadata": {
        "id": "bYXdNQxUWFMW",
        "colab_type": "code",
        "colab": {}
      },
      "source": [
        "print(2==1)\n",
        "print(2==2)\n",
        "print(6>6)\n",
        "print(6>=6)"
      ],
      "execution_count": null,
      "outputs": []
    },
    {
      "cell_type": "markdown",
      "metadata": {
        "id": "r8y_lXrwWF1_",
        "colab_type": "text"
      },
      "source": [
        "\n",
        "\n",
        "\n",
        "\n",
        "\n",
        "\n",
        "\n",
        "\n",
        "\n",
        "\n",
        "\n",
        "\n",
        "\n",
        "\n",
        "\n",
        "\n",
        "\n",
        "\n",
        "\n",
        "\n",
        "\n",
        "\n",
        "\n",
        "\n",
        "\n",
        "\n",
        "\n",
        "\n",
        "\n",
        "\n",
        "\n",
        "Se pueden combinar mas de una condición\n"
      ]
    },
    {
      "cell_type": "code",
      "metadata": {
        "id": "m-iy3bjEWK8V",
        "colab_type": "code",
        "colab": {}
      },
      "source": [
        "print(2==3 or 3<9)\n",
        "print(2==3 and 3<9)\n",
        "print(algo or 6<1)\n",
        "print(algo and 6<1)"
      ],
      "execution_count": null,
      "outputs": []
    },
    {
      "cell_type": "markdown",
      "metadata": {
        "id": "OhD3USJCWL-J",
        "colab_type": "text"
      },
      "source": [
        "##Listas\n",
        "\n",
        "Python tiene dos tipos de datos más que son muy útiles: las listas y los diccionarios. Por ahora vamos a ver solo las listas. Las listas son conjuntos ordenados. Se definen usando corchetes. Separados por coma se ponen los elementos. Los elementos pueden ser cualquier tipo de datos: str, int, float e incluso otras listas!\n",
        "\n",
        "Puedo acceder a cada uno de sus elementos por separado usando el método [ ]. Entre corchetes tengo que indicar la posición del elemento de la lista al cual quiero acceder. **Python empieza a contar desde 0**, ojo.\n"
      ]
    },
    {
      "cell_type": "code",
      "metadata": {
        "id": "ddp_UzEoWSNz",
        "colab_type": "code",
        "colab": {}
      },
      "source": [
        "foo = [2, 3, 8, -1, -5.2]\n",
        "print(foo)\n",
        "print(foo[1])\n",
        "temp2 = [4, 'hola', [4,5], a]\n",
        "print(temp2)\n",
        "print(temp2[2])\n",
        "print(foo[-1]) #Qué pasará acá?"
      ],
      "execution_count": null,
      "outputs": []
    },
    {
      "cell_type": "markdown",
      "metadata": {
        "id": "nyvjDyoxWhPs",
        "colab_type": "text"
      },
      "source": [
        "\n",
        "\n",
        "\n",
        "\n",
        "\n",
        "\n",
        "\n",
        "\n",
        "\n",
        "\n",
        "\n",
        "\n",
        "\n",
        "\n",
        "\n",
        "\n",
        "\n",
        "\n",
        "\n",
        "\n",
        "\n",
        "\n",
        "\n",
        "\n",
        "\n",
        "\n",
        "\n",
        "\n",
        "\n",
        "\n",
        "\n",
        "Los elementos de una lista pueden modificarse\n"
      ]
    },
    {
      "cell_type": "code",
      "metadata": {
        "id": "Tty5Z9F4Wqst",
        "colab_type": "code",
        "colab": {}
      },
      "source": [
        "foo[2] = 99\n",
        "print(foo)"
      ],
      "execution_count": null,
      "outputs": []
    },
    {
      "cell_type": "markdown",
      "metadata": {
        "id": "5tZ_ycU_WsxT",
        "colab_type": "text"
      },
      "source": [
        "Pero atención! una lista es, como el nombre lo indica, una lista, como cuando van al super y se anotan lo que van a comprar. Esto es distinto a un vector como los que usamos en clase. ¿La diferencia? Si sumo algo a una lista es que me acordé de algo más que quiero comprar en el súper, si le sumo algo al vector no debería pasar esto (ya vamos a ver vectores más adelante en este notebook)."
      ]
    },
    {
      "cell_type": "code",
      "metadata": {
        "id": "n52H5Ht8XiZ-",
        "colab_type": "code",
        "colab": {}
      },
      "source": [
        "print(foo)\n",
        "print(temp2)\n",
        "print(foo + temp2)"
      ],
      "execution_count": null,
      "outputs": []
    },
    {
      "cell_type": "markdown",
      "metadata": {
        "id": "eMdHd_IZXqBH",
        "colab_type": "text"
      },
      "source": [
        "##  Función range()  \n",
        "\n",
        "Muchas veces vamos a necesitar una lista de números naturales consecutivos. Hay un comando para eso! range. Para investigarlo vamos a hacer uso de una de las funciones más usadas dentro de Python. El help! A la ayuda vamos a acceder con una función y un signo de pregunta"
      ]
    },
    {
      "cell_type": "code",
      "metadata": {
        "id": "1zg_uH_jYwE5",
        "colab_type": "code",
        "colab": {}
      },
      "source": [
        "range?"
      ],
      "execution_count": null,
      "outputs": []
    },
    {
      "cell_type": "code",
      "metadata": {
        "id": "7eTY7z1pYx0G",
        "colab_type": "code",
        "colab": {}
      },
      "source": [
        "f =range(5)\n",
        "print(f[1])\n",
        "g = range(2,9)\n",
        "print(g[4])\n",
        "h = range(2,20, 3) #range(start, stop, step)\n",
        "print(h) \n",
        "print(h[5])"
      ],
      "execution_count": null,
      "outputs": []
    },
    {
      "cell_type": "markdown",
      "metadata": {
        "id": "Qd2zyAV6Z2eN",
        "colab_type": "text"
      },
      "source": [
        "## Ciclos y condicionales\n",
        "\n",
        "Llegamos a la parte donde se empieza a volver más útil tener una computadora con Python que una hoja y una lapicera (Sí, además de ser más cool tiene algunas ventajas). El *for* me va a permitir repetir una secuencia de comandos (iterar) sobre los distintos elementos de una lista.\n",
        "\n"
      ]
    },
    {
      "cell_type": "code",
      "metadata": {
        "id": "0y2tMyK2Z9cs",
        "colab_type": "code",
        "colab": {}
      },
      "source": [
        "for i in foo: #Dentro del for, el elemento que esté usando en esa vuelta se llamará i\n",
        "  print(i) #La forma de decirle a Python que seguimos dentro del for es indentar la linea, esta está dentro y se repite cada vez\n",
        "\n",
        "print(foo) # Esta linea no está indentada así que se ejecuta una sola vez "
      ],
      "execution_count": null,
      "outputs": []
    },
    {
      "cell_type": "markdown",
      "metadata": {
        "id": "SamaqoNqahpj",
        "colab_type": "text"
      },
      "source": [
        "##Condicional, If\n",
        "\n",
        "El if es un comando que nos va a permitir pedirle a Python, según alguna condición que haga o no una cosa"
      ]
    },
    {
      "cell_type": "code",
      "metadata": {
        "id": "fZn6ILkpbaA6",
        "colab_type": "code",
        "colab": {}
      },
      "source": [
        "a = 7\n",
        "if a < 10:\n",
        "  print('El número es menor a 10')"
      ],
      "execution_count": null,
      "outputs": []
    },
    {
      "cell_type": "markdown",
      "metadata": {
        "id": "ApSYMwx9c5VS",
        "colab_type": "text"
      },
      "source": [
        "También podemos decirle qué hace si no se cumple la condición con el comando else"
      ]
    },
    {
      "cell_type": "code",
      "metadata": {
        "id": "Gc48Uea9dCKs",
        "colab_type": "code",
        "colab": {}
      },
      "source": [
        "a = 7 \n",
        "if a <= 5:\n",
        "  print('el número es menor o igual a 5')\n",
        "else:\n",
        "  print('el número es mayor a 5')"
      ],
      "execution_count": null,
      "outputs": []
    },
    {
      "cell_type": "markdown",
      "metadata": {
        "id": "IDC1AWGBdQEZ",
        "colab_type": "text"
      },
      "source": [
        "También podemos combinar el for y el if"
      ]
    },
    {
      "cell_type": "code",
      "metadata": {
        "id": "MHy0yQ-SdfP1",
        "colab_type": "code",
        "colab": {}
      },
      "source": [
        "print(foo)\n",
        "for i in foo:\n",
        "  if i <= 5:\n",
        "    print('el número ' + str(i) + ' es menor o igual a 5')\n",
        "  else:\n",
        "    print('el número ' + str(i) + ' es mayor a 5')\n",
        " \n",
        "#Observen las indentaciones, son súper importantes"
      ],
      "execution_count": null,
      "outputs": []
    },
    {
      "cell_type": "markdown",
      "metadata": {
        "id": "wixfbf8XdpQn",
        "colab_type": "text"
      },
      "source": [
        "Otro ejemplo, ahora usando el comando break que rompe el for."
      ]
    },
    {
      "cell_type": "code",
      "metadata": {
        "id": "-3naJKyYehry",
        "colab_type": "code",
        "colab": {}
      },
      "source": [
        "print(foo)\n",
        "for i in foo:\n",
        "  if i <= 5:\n",
        "    print(i)\n",
        "  else:\n",
        "    break\n",
        " "
      ],
      "execution_count": null,
      "outputs": []
    },
    {
      "cell_type": "markdown",
      "metadata": {
        "id": "0VHp4ml3eomY",
        "colab_type": "text"
      },
      "source": [
        "Hay otros ciclos que permiten trabajar de distintas maneras al for, uno de ellos es el while. El while es como el for pero se va a repetir solamente mientras se cumpla una condición."
      ]
    },
    {
      "cell_type": "code",
      "metadata": {
        "id": "I4L7mITTfemh",
        "colab_type": "code",
        "colab": {}
      },
      "source": [
        "n = 0\n",
        "while n <= 5 :\n",
        "  print(n)\n",
        "  n = n+1 #Otra forma más compacta de escribir esta linea es n += 1, pruebenla y vean que hace."
      ],
      "execution_count": null,
      "outputs": []
    },
    {
      "cell_type": "markdown",
      "metadata": {
        "id": "I9LJYXahfxmB",
        "colab_type": "text"
      },
      "source": [
        "Acá es clave que no se olviden el comando dentro del ciclo que vaya modificando la variable de la condición sino se van a quedar en el loop eternamente y tendremos ir a rescatarlxs. \n",
        "\n",
        "Esto puede ser útil para crear la misma lista que habíamos creado con el range pero de otra forma. Podemos iniciar con una lista vacía y aprovechar el método append que tienen las listas que sirve para agregar algo al final de lo que ya teníamos."
      ]
    },
    {
      "cell_type": "code",
      "metadata": {
        "id": "g_UP3ieOgrWD",
        "colab_type": "code",
        "colab": {}
      },
      "source": [
        "lista = []\n",
        "n = 1\n",
        "while n <= 5 :\n",
        "  lista.append(n)\n",
        "  n = n+1 #Es importante el orden en que pongo estas dos? prueben cambiarlos, porque pasa eso?\n",
        "  \n",
        "print(lista)"
      ],
      "execution_count": null,
      "outputs": []
    },
    {
      "cell_type": "markdown",
      "metadata": {
        "id": "bLkPcrDng-Si",
        "colab_type": "text"
      },
      "source": [
        "##Funciones\n",
        "Si vamos a usar muchas veces una misma secuencia de comandos, suele ser prolijo y útil crear una función.\n"
      ]
    },
    {
      "cell_type": "code",
      "metadata": {
        "id": "6c3E4W4ehOnP",
        "colab_type": "code",
        "colab": {}
      },
      "source": [
        "def myhello():\n",
        "    return 'aloja'"
      ],
      "execution_count": null,
      "outputs": []
    },
    {
      "cell_type": "code",
      "metadata": {
        "id": "AXnSUHT2ivrD",
        "colab_type": "code",
        "colab": {}
      },
      "source": [
        "myhello()"
      ],
      "execution_count": null,
      "outputs": []
    },
    {
      "cell_type": "markdown",
      "metadata": {
        "id": "d_i_EEt5iyII",
        "colab_type": "text"
      },
      "source": [
        "También puedo crear una función donde le paso algo y me devuelve otra cosa, ese algo no tiene que estar definido a la hora de crear la función. Exactamente como cuando definimos f(x) = x+2 sin saber cuánto vale x"
      ]
    },
    {
      "cell_type": "code",
      "metadata": {
        "id": "K5RjlP1NjMXW",
        "colab_type": "code",
        "colab": {}
      },
      "source": [
        "def say_hello(name):\n",
        "    out = 'aloja ' + name\n",
        "    return out\n",
        "\n",
        "say_hello('Milton')"
      ],
      "execution_count": null,
      "outputs": []
    },
    {
      "cell_type": "code",
      "metadata": {
        "id": "iViTFpxFjOta",
        "colab_type": "code",
        "colab": {}
      },
      "source": [
        "def suma(a,b):\n",
        "    out = a + b\n",
        "    return out\n",
        "\n",
        "suma(2,4)"
      ],
      "execution_count": null,
      "outputs": []
    },
    {
      "cell_type": "markdown",
      "metadata": {
        "id": "DRL7KzUljnHV",
        "colab_type": "text"
      },
      "source": [
        "##Librerías científicas\n",
        "\n",
        "¿Por qué de entre tantos programas usamos Python? Python es un software libre y gratuito, ya saben lo que es un software gratuito pero libre ¿qué es? Cuando hablamos de un software libre o de código libre, hablamos de algo que inició una persona pero permitió que cualquiera agregue o modifique, así se genera una creación comunitaria donde cada usuario puede aportar un granito de arena para mejorar el software.\n",
        "\n",
        "En Python, una forma de colaborar con la comunidad de programadores es crear librerías. Las librerías son un conjunto de funciones (como las que vimos recién) que por lo general no son nativas de python y sirven como agregado a las funciones que ya tenemos inicialmente. Algunas librerías útiles son:\n",
        "\n",
        "\n",
        "\n",
        "*   Cálculo numérico:\n",
        "      * Numpy\n",
        "      * Scipy\n",
        "\n",
        "* Gráficos:\n",
        "    * Matplotlib\n",
        "\n",
        "* Otros\n",
        "    * Sympy (lenguaje simbólico)\n",
        "    * Pandas (Análisis de datos)\n",
        "\n",
        "Ahora vamos a ver algunas cosas de numpy y matplotlib pero les dejamos el resto para que las puedan investigar por su cuenta y por supuesto, pregunten.\n",
        "\n",
        "\n",
        "\n",
        "\n"
      ]
    },
    {
      "cell_type": "markdown",
      "metadata": {
        "id": "pTy9kLkcm2RG",
        "colab_type": "text"
      },
      "source": [
        "## Numpy\n",
        "Librería fundamental para cualquier cosa relativa a matemática que hagamos ya que nos trae el concepto de vector o matriz que antes no teníamos y que vamos a usar todo el tiempo. También vamos a tener a mano cosas como cosenos, senos, números como $\\pi$ o como e y algunas funciones como resolver autovectores y autovalores rápidamente que será fundamental en la materia, perdón por el spoiler.\n",
        "\n",
        "Para usar una librería, primero la debemos importar a nuestro código y eso es lo que va a aparecer en la primera linea, después la usamos.\n",
        "\n",
        "Vamos a empezar con la función más importante, los vectores o arrays."
      ]
    },
    {
      "cell_type": "code",
      "metadata": {
        "id": "yDMxTPWToBCS",
        "colab_type": "code",
        "colab": {}
      },
      "source": [
        "import numpy as np #Le asigno el nombre np a la librería numpy, si no lo hago, cada vez que quiera usar el coseno (por ejemplo), tendré que escribir numpy.cos\n",
        "\n",
        "a = np.array([1,5,3,4,6]) #por fuera están los parentesis de la función np.array, por dentro los corchetes de mi lista. como vimos antes lo leo de adentro para afuera, agarro mi lista y la convierto en un array\n",
        "\n",
        "print(a[0])\n",
        "print(a[3])\n",
        "print(a[-1])\n",
        "#Hasta acá todo igual a las listas\n",
        "\n",
        "print(a[1:4]) #Esto es nuevo! puedo crear subvectores\n",
        "\n",
        "b = np.array([2,3,1,4,0])\n",
        "\n",
        "print(a+b) #Suma como vectores (qué pasa si no tienen la misma longitud? Pruebenlo)\n",
        "\n",
        "print(a*b) #Producto componente a componente, esto es así porque va a ser más útil tener esto a mano que el producto escalar y de última si queremos ese producto solo tenemos que sumar estas componentes con sum()\n",
        "\n",
        "prodesc = sum(a*b)\n",
        "print(prodesc)\n",
        "\n",
        "print(a+2) #Le sumo a cada componente"
      ],
      "execution_count": null,
      "outputs": []
    },
    {
      "cell_type": "markdown",
      "metadata": {
        "id": "DyDipCuWqAtT",
        "colab_type": "text"
      },
      "source": [
        "Matrices, las armo igual pero ahora con una lista de listas"
      ]
    },
    {
      "cell_type": "code",
      "metadata": {
        "id": "nZWNABmzqedl",
        "colab_type": "code",
        "colab": {}
      },
      "source": [
        "M = np.array([[1,2,3],[1,2,3],[1,2,3]])\n",
        "print(M)"
      ],
      "execution_count": null,
      "outputs": []
    },
    {
      "cell_type": "markdown",
      "metadata": {
        "id": "10SPIiCtqz39",
        "colab_type": "text"
      },
      "source": [
        "Otra forma de definir vectores y matrices es con algunas funciones de numpy"
      ]
    },
    {
      "cell_type": "code",
      "metadata": {
        "id": "-7lihEO3q8hp",
        "colab_type": "code",
        "colab": {}
      },
      "source": [
        "Z = np.zeros([2,5]) #Crea una matriz de ceros, 2 filas y 5 columnas ¿qué pongo si quiero un vector?\n",
        "U = np.ones([2,5]) #Idem pero matriz de unos\n",
        "\n",
        "print(Z)\n",
        "print(U)\n",
        "print(np.shape(Z))\n",
        "print(M[:,0]) #pido la primer columna completa\n"
      ],
      "execution_count": null,
      "outputs": []
    },
    {
      "cell_type": "code",
      "metadata": {
        "id": "kFvJkStTc_KM",
        "colab_type": "code",
        "colab": {}
      },
      "source": [
        "identidad = np.identity(3)\n",
        "print(identidad)\n",
        "print()\n",
        "#otros para que prueben ustedes\n",
        "ojos = np.eye(5, k=0) # unos en la diagonal, como identidad\n",
        "ojos2 = np.eye(5, k=2) # qué pasó acá?\n",
        "\n",
        "print(ojos)\n",
        "print()\n",
        "print(ojos2)"
      ],
      "execution_count": null,
      "outputs": []
    },
    {
      "cell_type": "markdown",
      "metadata": {
        "id": "t9ZuIWFPriy6",
        "colab_type": "text"
      },
      "source": [
        "Prueben el comando M.T ¿qué hace? Ojo que Python distingue entre mayúsculas y minúsculas.\n"
      ]
    },
    {
      "cell_type": "code",
      "metadata": {
        "id": "I3kguEdYsLl0",
        "colab_type": "code",
        "colab": {}
      },
      "source": [
        "L = M.T\n",
        "print(np.dot(L,M)) #Producto matricial"
      ],
      "execution_count": null,
      "outputs": []
    },
    {
      "cell_type": "markdown",
      "metadata": {
        "id": "NGFP8OqesZn1",
        "colab_type": "text"
      },
      "source": [
        "Otros vectores útiles que vamos a usar mucho (y ya usamos en los notebooks que subimos), ¿cuál es la diferencia entre ambos? prueben y digan, les dejo solo la forma de escribirlos (¿qué pasa si les doy solo dos argumentos en lugar de tres?)\n"
      ]
    },
    {
      "cell_type": "code",
      "metadata": {
        "id": "wPYKhBHkstHA",
        "colab_type": "code",
        "colab": {}
      },
      "source": [
        "print(np.linspace(0,1,5)) #np.linspace(start, stop, cant de componentes)\n",
        "print(np.arange(0,5,0.5)) #np.arange(start, stop, step)\n"
      ],
      "execution_count": null,
      "outputs": []
    },
    {
      "cell_type": "markdown",
      "metadata": {
        "id": "AGFRC_ELtqSR",
        "colab_type": "text"
      },
      "source": [
        "##Matplotlib\n",
        "\n",
        "Librería para hacer gráficos, creo que no hace falta explicar la enorme utilidad de esto.\n"
      ]
    },
    {
      "cell_type": "code",
      "metadata": {
        "id": "hHIsZhr5d47W",
        "colab_type": "code",
        "colab": {}
      },
      "source": [
        "import matplotlib.pyplot as plt"
      ],
      "execution_count": null,
      "outputs": []
    },
    {
      "cell_type": "code",
      "metadata": {
        "id": "DIiyy80qt73-",
        "colab_type": "code",
        "colab": {}
      },
      "source": [
        "x = np.linspace(0,4*np.pi,100) #Ya que estamos vemos como se escribe pi\n",
        "\n",
        "y = np.sin(x)\n",
        "\n",
        "z = np.cos(x)\n",
        "plt.plot(x,y) #Esta es la forma mas simple\n",
        "plt.plot(x,z)"
      ],
      "execution_count": null,
      "outputs": []
    },
    {
      "cell_type": "code",
      "metadata": {
        "id": "Vw-I3kJZu1yr",
        "colab_type": "code",
        "colab": {}
      },
      "source": [
        "x = np.linspace(0,4*np.pi,100)\n",
        "\n",
        "y = np.sin(x)\n",
        "\n",
        "z = np.cos(x)\n",
        "#Escribamoslo con algunas cositas extras\n",
        "\n",
        "plt.figure()\n",
        "plt.plot(x, y, '-o', color='blue', label='sin(x)') #-o circulos unidos por línea\n",
        "plt.plot(x, z, '-s', color='red', label='cos(x)') #s cuadrados unidos por línea\n",
        "plt.grid() #cuadrícula en el fondo\n",
        "plt.xlabel('x')\n",
        "plt.ylabel('y')\n",
        "plt.title('funciones trigonométricas')\n",
        "plt.legend()\n",
        "plt.show()"
      ],
      "execution_count": null,
      "outputs": []
    },
    {
      "cell_type": "markdown",
      "metadata": {
        "id": "yrnuIMjcxkIy",
        "colab_type": "text"
      },
      "source": [
        "En alguno de los Notebooks que subimos aparece otra forma de graficar, pero es prácticamente igual. Se trata de crear la figura y el gráfico como si fueran variables (se les llama objetos) y después ir cambiandoles sus atributos. Veamos un ejemplo de esto como el que subió Ricardo para el primer notebook y cerramos."
      ]
    },
    {
      "cell_type": "code",
      "metadata": {
        "id": "cQU9UzfYyAxc",
        "colab_type": "code",
        "colab": {}
      },
      "source": [
        "fig,ax = plt.subplots(1) #Creo estas \"variables\"\n",
        "#Le cambio algunos atributos\n",
        "ax.grid(True)\n",
        "ax.plot(x, y, color = 'b', label = 'sen(x)')"
      ],
      "execution_count": null,
      "outputs": []
    }
  ]
}